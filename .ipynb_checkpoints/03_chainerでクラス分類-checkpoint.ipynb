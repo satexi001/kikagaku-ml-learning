{
 "cells": [
  {
   "cell_type": "markdown",
   "metadata": {},
   "source": [
    "# Chainerでクラス分類"
   ]
  },
  {
   "cell_type": "code",
   "execution_count": 1,
   "metadata": {},
   "outputs": [],
   "source": [
    "import pandas as pd"
   ]
  },
  {
   "cell_type": "code",
   "execution_count": 3,
   "metadata": {},
   "outputs": [
    {
     "data": {
      "text/html": [
       "<div>\n",
       "<style scoped>\n",
       "    .dataframe tbody tr th:only-of-type {\n",
       "        vertical-align: middle;\n",
       "    }\n",
       "\n",
       "    .dataframe tbody tr th {\n",
       "        vertical-align: top;\n",
       "    }\n",
       "\n",
       "    .dataframe thead th {\n",
       "        text-align: right;\n",
       "    }\n",
       "</style>\n",
       "<table border=\"1\" class=\"dataframe\">\n",
       "  <thead>\n",
       "    <tr style=\"text-align: right;\">\n",
       "      <th></th>\n",
       "      <th>Class</th>\n",
       "      <th>Alcohol</th>\n",
       "      <th>Ash</th>\n",
       "      <th>Alcalinity of ash</th>\n",
       "      <th>Magnesium</th>\n",
       "      <th>Total phenols</th>\n",
       "      <th>Flavanoids</th>\n",
       "      <th>Nonflavanoid phenols</th>\n",
       "      <th>Color intensity</th>\n",
       "      <th>Hue</th>\n",
       "      <th>Proline</th>\n",
       "    </tr>\n",
       "  </thead>\n",
       "  <tbody>\n",
       "    <tr>\n",
       "      <th>0</th>\n",
       "      <td>1</td>\n",
       "      <td>14.23</td>\n",
       "      <td>2.43</td>\n",
       "      <td>15.6</td>\n",
       "      <td>127</td>\n",
       "      <td>2.80</td>\n",
       "      <td>3.06</td>\n",
       "      <td>0.28</td>\n",
       "      <td>5.64</td>\n",
       "      <td>1.04</td>\n",
       "      <td>1065</td>\n",
       "    </tr>\n",
       "    <tr>\n",
       "      <th>1</th>\n",
       "      <td>1</td>\n",
       "      <td>13.20</td>\n",
       "      <td>2.14</td>\n",
       "      <td>11.2</td>\n",
       "      <td>100</td>\n",
       "      <td>2.65</td>\n",
       "      <td>2.76</td>\n",
       "      <td>0.26</td>\n",
       "      <td>4.38</td>\n",
       "      <td>1.05</td>\n",
       "      <td>1050</td>\n",
       "    </tr>\n",
       "    <tr>\n",
       "      <th>2</th>\n",
       "      <td>1</td>\n",
       "      <td>13.16</td>\n",
       "      <td>2.67</td>\n",
       "      <td>18.6</td>\n",
       "      <td>101</td>\n",
       "      <td>2.80</td>\n",
       "      <td>3.24</td>\n",
       "      <td>0.30</td>\n",
       "      <td>5.68</td>\n",
       "      <td>1.03</td>\n",
       "      <td>1185</td>\n",
       "    </tr>\n",
       "    <tr>\n",
       "      <th>3</th>\n",
       "      <td>1</td>\n",
       "      <td>14.37</td>\n",
       "      <td>2.50</td>\n",
       "      <td>16.8</td>\n",
       "      <td>113</td>\n",
       "      <td>3.85</td>\n",
       "      <td>3.49</td>\n",
       "      <td>0.24</td>\n",
       "      <td>7.80</td>\n",
       "      <td>0.86</td>\n",
       "      <td>1480</td>\n",
       "    </tr>\n",
       "    <tr>\n",
       "      <th>4</th>\n",
       "      <td>1</td>\n",
       "      <td>13.24</td>\n",
       "      <td>2.87</td>\n",
       "      <td>21.0</td>\n",
       "      <td>118</td>\n",
       "      <td>2.80</td>\n",
       "      <td>2.69</td>\n",
       "      <td>0.39</td>\n",
       "      <td>4.32</td>\n",
       "      <td>1.04</td>\n",
       "      <td>735</td>\n",
       "    </tr>\n",
       "  </tbody>\n",
       "</table>\n",
       "</div>"
      ],
      "text/plain": [
       "   Class  Alcohol   Ash  Alcalinity of ash  Magnesium  Total phenols  \\\n",
       "0      1    14.23  2.43               15.6        127           2.80   \n",
       "1      1    13.20  2.14               11.2        100           2.65   \n",
       "2      1    13.16  2.67               18.6        101           2.80   \n",
       "3      1    14.37  2.50               16.8        113           3.85   \n",
       "4      1    13.24  2.87               21.0        118           2.80   \n",
       "\n",
       "   Flavanoids  Nonflavanoid phenols  Color intensity   Hue  Proline  \n",
       "0        3.06                  0.28             5.64  1.04     1065  \n",
       "1        2.76                  0.26             4.38  1.05     1050  \n",
       "2        3.24                  0.30             5.68  1.03     1185  \n",
       "3        3.49                  0.24             7.80  0.86     1480  \n",
       "4        2.69                  0.39             4.32  1.04      735  "
      ]
     },
     "execution_count": 3,
     "metadata": {},
     "output_type": "execute_result"
    }
   ],
   "source": [
    "df = pd.read_csv('wine-class.csv')\n",
    "df.head()"
   ]
  },
  {
   "cell_type": "markdown",
   "metadata": {},
   "source": [
    "## 入力変数と出力変数（教師データ）に切り分ける"
   ]
  },
  {
   "cell_type": "code",
   "execution_count": 4,
   "metadata": {},
   "outputs": [
    {
     "data": {
      "text/plain": [
       "0    1\n",
       "1    1\n",
       "2    1\n",
       "Name: Class, dtype: int64"
      ]
     },
     "execution_count": 4,
     "metadata": {},
     "output_type": "execute_result"
    }
   ],
   "source": [
    "# df.iloc[行, 列]\n",
    "t = df.iloc[:, 0]\n",
    "t.head(3)"
   ]
  },
  {
   "cell_type": "code",
   "execution_count": 5,
   "metadata": {},
   "outputs": [
    {
     "data": {
      "text/html": [
       "<div>\n",
       "<style scoped>\n",
       "    .dataframe tbody tr th:only-of-type {\n",
       "        vertical-align: middle;\n",
       "    }\n",
       "\n",
       "    .dataframe tbody tr th {\n",
       "        vertical-align: top;\n",
       "    }\n",
       "\n",
       "    .dataframe thead th {\n",
       "        text-align: right;\n",
       "    }\n",
       "</style>\n",
       "<table border=\"1\" class=\"dataframe\">\n",
       "  <thead>\n",
       "    <tr style=\"text-align: right;\">\n",
       "      <th></th>\n",
       "      <th>Alcohol</th>\n",
       "      <th>Ash</th>\n",
       "      <th>Alcalinity of ash</th>\n",
       "      <th>Magnesium</th>\n",
       "      <th>Total phenols</th>\n",
       "      <th>Flavanoids</th>\n",
       "      <th>Nonflavanoid phenols</th>\n",
       "      <th>Color intensity</th>\n",
       "      <th>Hue</th>\n",
       "      <th>Proline</th>\n",
       "    </tr>\n",
       "  </thead>\n",
       "  <tbody>\n",
       "    <tr>\n",
       "      <th>0</th>\n",
       "      <td>14.23</td>\n",
       "      <td>2.43</td>\n",
       "      <td>15.6</td>\n",
       "      <td>127</td>\n",
       "      <td>2.80</td>\n",
       "      <td>3.06</td>\n",
       "      <td>0.28</td>\n",
       "      <td>5.64</td>\n",
       "      <td>1.04</td>\n",
       "      <td>1065</td>\n",
       "    </tr>\n",
       "    <tr>\n",
       "      <th>1</th>\n",
       "      <td>13.20</td>\n",
       "      <td>2.14</td>\n",
       "      <td>11.2</td>\n",
       "      <td>100</td>\n",
       "      <td>2.65</td>\n",
       "      <td>2.76</td>\n",
       "      <td>0.26</td>\n",
       "      <td>4.38</td>\n",
       "      <td>1.05</td>\n",
       "      <td>1050</td>\n",
       "    </tr>\n",
       "    <tr>\n",
       "      <th>2</th>\n",
       "      <td>13.16</td>\n",
       "      <td>2.67</td>\n",
       "      <td>18.6</td>\n",
       "      <td>101</td>\n",
       "      <td>2.80</td>\n",
       "      <td>3.24</td>\n",
       "      <td>0.30</td>\n",
       "      <td>5.68</td>\n",
       "      <td>1.03</td>\n",
       "      <td>1185</td>\n",
       "    </tr>\n",
       "  </tbody>\n",
       "</table>\n",
       "</div>"
      ],
      "text/plain": [
       "   Alcohol   Ash  Alcalinity of ash  Magnesium  Total phenols  Flavanoids  \\\n",
       "0    14.23  2.43               15.6        127           2.80        3.06   \n",
       "1    13.20  2.14               11.2        100           2.65        2.76   \n",
       "2    13.16  2.67               18.6        101           2.80        3.24   \n",
       "\n",
       "   Nonflavanoid phenols  Color intensity   Hue  Proline  \n",
       "0                  0.28             5.64  1.04     1065  \n",
       "1                  0.26             4.38  1.05     1050  \n",
       "2                  0.30             5.68  1.03     1185  "
      ]
     },
     "execution_count": 5,
     "metadata": {},
     "output_type": "execute_result"
    }
   ],
   "source": [
    "# 1番目から最後まで\n",
    "x = df.iloc[:, 1:]\n",
    "x.head(3)"
   ]
  },
  {
   "cell_type": "code",
   "execution_count": 6,
   "metadata": {},
   "outputs": [
    {
     "data": {
      "text/plain": [
       "(178, 10)"
      ]
     },
     "execution_count": 6,
     "metadata": {},
     "output_type": "execute_result"
    }
   ],
   "source": [
    "x.shape"
   ]
  },
  {
   "cell_type": "code",
   "execution_count": 8,
   "metadata": {},
   "outputs": [
    {
     "data": {
      "text/plain": [
       "numpy.ndarray"
      ]
     },
     "execution_count": 8,
     "metadata": {},
     "output_type": "execute_result"
    }
   ],
   "source": [
    "type(x.values)"
   ]
  },
  {
   "cell_type": "code",
   "execution_count": 19,
   "metadata": {},
   "outputs": [
    {
     "data": {
      "text/plain": [
       "array([0, 0, 0, 0, 0, 0, 0, 0, 0, 0, 0, 0, 0, 0, 0, 0, 0, 0, 0, 0, 0, 0,\n",
       "       0, 0, 0, 0, 0, 0, 0, 0, 0, 0, 0, 0, 0, 0, 0, 0, 0, 0, 0, 0, 0, 0,\n",
       "       0, 0, 0, 0, 0, 0, 0, 0, 0, 0, 0, 0, 0, 0, 0, 1, 1, 1, 1, 1, 1, 1,\n",
       "       1, 1, 1, 1, 1, 1, 1, 1, 1, 1, 1, 1, 1, 1, 1, 1, 1, 1, 1, 1, 1, 1,\n",
       "       1, 1, 1, 1, 1, 1, 1, 1, 1, 1, 1, 1, 1, 1, 1, 1, 1, 1, 1, 1, 1, 1,\n",
       "       1, 1, 1, 1, 1, 1, 1, 1, 1, 1, 1, 1, 1, 1, 1, 1, 1, 1, 1, 1, 2, 2,\n",
       "       2, 2, 2, 2, 2, 2, 2, 2, 2, 2, 2, 2, 2, 2, 2, 2, 2, 2, 2, 2, 2, 2,\n",
       "       2, 2, 2, 2, 2, 2, 2, 2, 2, 2, 2, 2, 2, 2, 2, 2, 2, 2, 2, 2, 2, 2,\n",
       "       2, 2], dtype=int32)"
      ]
     },
     "execution_count": 19,
     "metadata": {},
     "output_type": "execute_result"
    }
   ],
   "source": [
    "t = df.iloc[:, 0].values - 1\n",
    "t = t.astype('i')\n",
    "t"
   ]
  },
  {
   "cell_type": "code",
   "execution_count": 17,
   "metadata": {},
   "outputs": [
    {
     "data": {
      "text/plain": [
       "array([[1.423e+01, 2.430e+00, 1.560e+01, ..., 5.640e+00, 1.040e+00,\n",
       "        1.065e+03],\n",
       "       [1.320e+01, 2.140e+00, 1.120e+01, ..., 4.380e+00, 1.050e+00,\n",
       "        1.050e+03],\n",
       "       [1.316e+01, 2.670e+00, 1.860e+01, ..., 5.680e+00, 1.030e+00,\n",
       "        1.185e+03],\n",
       "       ...,\n",
       "       [1.327e+01, 2.260e+00, 2.000e+01, ..., 1.020e+01, 5.900e-01,\n",
       "        8.350e+02],\n",
       "       [1.317e+01, 2.370e+00, 2.000e+01, ..., 9.300e+00, 6.000e-01,\n",
       "        8.400e+02],\n",
       "       [1.413e+01, 2.740e+00, 2.450e+01, ..., 9.200e+00, 6.100e-01,\n",
       "        5.600e+02]], dtype=float32)"
      ]
     },
     "execution_count": 17,
     "metadata": {},
     "output_type": "execute_result"
    }
   ],
   "source": [
    "x = df.iloc[:, 1:].values\n",
    "x = x.astype('f')\n",
    "x"
   ]
  },
  {
   "cell_type": "markdown",
   "metadata": {},
   "source": [
    "# ニューラルネットワークのモデルを定義"
   ]
  },
  {
   "cell_type": "code",
   "execution_count": 29,
   "metadata": {},
   "outputs": [],
   "source": [
    "import numpy as np\n",
    "import chainer\n",
    "import chainer.functions as F\n",
    "import chainer.links as L"
   ]
  },
  {
   "cell_type": "code",
   "execution_count": 276,
   "metadata": {},
   "outputs": [],
   "source": [
    "class NN(chainer.Chain):\n",
    "    \n",
    "    #モデルの定義\n",
    "    def __init__(self, n_mid_units=5, n_mid_units2=10, n_out=3):\n",
    "        super().__init__()\n",
    "        with self.init_scope():\n",
    "            self.fc1 = L.Linear(None, n_mid_units)\n",
    "            self.fc2 = L.Linear(None, n_mid_units2)\n",
    "            self.fc3 = L.Linear(None, n_out)\n",
    "            \n",
    "            #Batch Normalization\n",
    "            self.bn = L.BatchNormalization(10) #追記\n",
    "            \n",
    "    #順伝搬\n",
    "    def __call__(self, x):\n",
    "        h = self.bn(x) #追記\n",
    "        h = self.fc1(h)\n",
    "        h = F.sigmoid(h)\n",
    "        h = self.fc3(h)\n",
    "        return h"
   ]
  },
  {
   "cell_type": "code",
   "execution_count": 277,
   "metadata": {},
   "outputs": [],
   "source": [
    "np.random.seed(3)\n",
    "nn = NN()"
   ]
  },
  {
   "cell_type": "code",
   "execution_count": 278,
   "metadata": {},
   "outputs": [],
   "source": [
    "model = L.Classifier(nn)"
   ]
  },
  {
   "cell_type": "markdown",
   "metadata": {},
   "source": [
    "# Chainerで使用するデータセットの形式"
   ]
  },
  {
   "cell_type": "code",
   "execution_count": 279,
   "metadata": {},
   "outputs": [],
   "source": [
    "zipped = zip(x, t)\n",
    "dataset = list(zipped)"
   ]
  },
  {
   "cell_type": "markdown",
   "metadata": {},
   "source": [
    "# 訓練データと検証データに分割"
   ]
  },
  {
   "cell_type": "code",
   "execution_count": 280,
   "metadata": {},
   "outputs": [],
   "source": [
    "import chainer"
   ]
  },
  {
   "cell_type": "code",
   "execution_count": 281,
   "metadata": {},
   "outputs": [],
   "source": [
    "# len(dataset)"
   ]
  },
  {
   "cell_type": "code",
   "execution_count": 282,
   "metadata": {},
   "outputs": [
    {
     "data": {
      "text/plain": [
       "106"
      ]
     },
     "execution_count": 282,
     "metadata": {},
     "output_type": "execute_result"
    }
   ],
   "source": [
    "n_train = int(len(dataset)*0.6)\n",
    "n_train"
   ]
  },
  {
   "cell_type": "code",
   "execution_count": 283,
   "metadata": {},
   "outputs": [],
   "source": [
    "train, test = chainer.datasets.split_dataset_random(dataset, n_train, seed=1)"
   ]
  },
  {
   "cell_type": "code",
   "execution_count": 284,
   "metadata": {},
   "outputs": [],
   "source": [
    "# len(train)"
   ]
  },
  {
   "cell_type": "code",
   "execution_count": 285,
   "metadata": {},
   "outputs": [],
   "source": [
    "# len(test)"
   ]
  },
  {
   "cell_type": "code",
   "execution_count": 286,
   "metadata": {},
   "outputs": [],
   "source": [
    "# test"
   ]
  },
  {
   "cell_type": "markdown",
   "metadata": {},
   "source": [
    "## 学習するための設定"
   ]
  },
  {
   "cell_type": "markdown",
   "metadata": {},
   "source": [
    "### Optimizerの設定"
   ]
  },
  {
   "cell_type": "code",
   "execution_count": 287,
   "metadata": {},
   "outputs": [],
   "source": [
    "#optimizer = chainer.optimizers.SGD() #確率的勾配降下法\n",
    "optimizer = chainer.optimizers.Adam() #確率的勾配降下法\n",
    "# とりあえずAdam"
   ]
  },
  {
   "cell_type": "code",
   "execution_count": 288,
   "metadata": {},
   "outputs": [
    {
     "data": {
      "text/plain": [
       "<chainer.optimizers.adam.Adam at 0x11f634320>"
      ]
     },
     "execution_count": 288,
     "metadata": {},
     "output_type": "execute_result"
    }
   ],
   "source": [
    "optimizer.setup(model)"
   ]
  },
  {
   "cell_type": "markdown",
   "metadata": {},
   "source": [
    "### Iteratorの設定"
   ]
  },
  {
   "cell_type": "code",
   "execution_count": 289,
   "metadata": {},
   "outputs": [],
   "source": [
    "batchsize = 10"
   ]
  },
  {
   "cell_type": "code",
   "execution_count": 290,
   "metadata": {},
   "outputs": [],
   "source": [
    "train_iter = chainer.iterators.SerialIterator(train, batchsize)\n",
    "test_iter = chainer.iterators.SerialIterator(test, batchsize, repeat=False, shuffle=False)"
   ]
  },
  {
   "cell_type": "markdown",
   "metadata": {},
   "source": [
    "### Updaterの設定\n",
    "- CPU: -1\n",
    "- GPU: 0"
   ]
  },
  {
   "cell_type": "code",
   "execution_count": 291,
   "metadata": {},
   "outputs": [],
   "source": [
    "from chainer import training"
   ]
  },
  {
   "cell_type": "code",
   "execution_count": 292,
   "metadata": {},
   "outputs": [],
   "source": [
    "updater = training.StandardUpdater(train_iter, optimizer, device=-1)"
   ]
  },
  {
   "cell_type": "markdown",
   "metadata": {},
   "source": [
    "### TrainerとExtensionsの設定"
   ]
  },
  {
   "cell_type": "code",
   "execution_count": 293,
   "metadata": {},
   "outputs": [],
   "source": [
    "from chainer.training import extensions"
   ]
  },
  {
   "cell_type": "code",
   "execution_count": 294,
   "metadata": {},
   "outputs": [],
   "source": [
    "# エポックの数(学習回数の設定)\n",
    "epoch = 100"
   ]
  },
  {
   "cell_type": "code",
   "execution_count": 295,
   "metadata": {},
   "outputs": [],
   "source": [
    "#trainerの宣言\n",
    "trainer = training.Trainer(updater, (epoch, 'epoch'), out='result/wine')\n",
    "\n",
    "# 検証データで評価\n",
    "trainer.extend(extensions.Evaluator(test_iter, model, device=-1))\n",
    "\n",
    "trainer.extend(extensions.LogReport(trigger=(1, 'epoch')))\n",
    "\n",
    "# 1エポックごと（trigger)にtrainデータに対するlossとtestデータに対するloss, 経過時間を出力\n",
    "trainer.extend(extensions.PrintReport([\n",
    "    'epoch',\n",
    "    'main/accuracy', 'validation/main/accuracy',\n",
    "    'main/loss', 'validation/main/loss',\n",
    "    'elapsed_time'\n",
    "]), trigger=(1, 'epoch'))"
   ]
  },
  {
   "cell_type": "markdown",
   "metadata": {},
   "source": [
    "## 学習の実行"
   ]
  },
  {
   "cell_type": "code",
   "execution_count": 296,
   "metadata": {},
   "outputs": [
    {
     "name": "stdout",
     "output_type": "stream",
     "text": [
      "epoch       main/accuracy  validation/main/accuracy  main/loss   validation/main/loss  elapsed_time\n",
      "\u001b[J1           0.281818       0.3625                    1.25994     1.27432               0.0482423     \n",
      "\u001b[J2           0.272727       0.375                     1.24347     1.18146               0.12018       \n",
      "\u001b[J3           0.3            0.3625                    1.19182     1.14443               0.165756      \n",
      "\u001b[J4           0.327273       0.4                       1.19597     1.12183               0.206913      \n",
      "\u001b[J5           0.4            0.425                     1.16121     1.10596               0.243787      \n",
      "\u001b[J6           0.418182       0.475                     1.14457     1.08746               0.284739      \n",
      "\u001b[J7           0.481818       0.525                     1.1122      1.07537               0.339484      \n",
      "\u001b[J8           0.44           0.525                     1.1027      1.06326               0.401935      \n",
      "\u001b[J9           0.481818       0.55                      1.08312     1.05098               0.458852      \n",
      "\u001b[J10          0.48           0.5375                    1.06947     1.04152               0.515256      \n",
      "\u001b[J11          0.509091       0.525                     1.05018     1.02764               0.588554      \n",
      "\u001b[J12          0.536364       0.55                      1.0319      1.01663               0.660094      \n",
      "\u001b[J13          0.51           0.55                      1.02472     1.00791               0.708692      \n",
      "\u001b[J14          0.5            0.55                      1.01506     0.997381              0.782856      \n",
      "\u001b[J15          0.57           0.55                      0.988812    0.989058              0.913826      \n",
      "\u001b[J16          0.509091       0.55                      0.99151     0.978999              0.995726      \n",
      "\u001b[J17          0.554545       0.5875                    0.964467    0.96705               1.16648       \n",
      "\u001b[J18          0.58           0.6                       0.961307    0.960334              1.35985       \n",
      "\u001b[J19          0.654545       0.625                     0.9509      0.949543              1.45111       \n",
      "\u001b[J20          0.7            0.6125                    0.928702    0.943574              1.51486       \n",
      "\u001b[J21          0.718182       0.6375                    0.927739    0.93227               1.58454       \n",
      "\u001b[J22          0.754545       0.675                     0.912683    0.923929              1.70012       \n",
      "\u001b[J23          0.73           0.7                       0.908268    0.911648              1.89121       \n",
      "\u001b[J24          0.809091       0.7125                    0.888274    0.905453              2.03616       \n",
      "\u001b[J25          0.82           0.7125                    0.869773    0.897569              2.16304       \n",
      "\u001b[J26          0.790909       0.7125                    0.87416     0.887877              2.30307       \n",
      "\u001b[J27          0.809091       0.725                     0.865254    0.877937              2.44973       \n",
      "\u001b[J28          0.85           0.7                       0.84719     0.874071              2.57692       \n",
      "\u001b[J29          0.845455       0.7375                    0.84547     0.861095              2.63785       \n",
      "\u001b[J30          0.89           0.7625                    0.817302    0.856247              2.73017       \n",
      "\u001b[J31          0.9            0.7625                    0.811619    0.845177              2.89145       \n",
      "\u001b[J32          0.909091       0.8                       0.804922    0.833104              2.96242       \n",
      "\u001b[J33          0.88           0.8                       0.796777    0.82327               3.05357       \n",
      "\u001b[J34          0.9            0.8                       0.797901    0.812845              3.13961       \n",
      "\u001b[J35          0.88           0.8                       0.770036    0.807345              3.22887       \n",
      "\u001b[J36          0.9            0.8                       0.775805    0.799883              3.30415       \n",
      "\u001b[J37          0.9            0.8                       0.757655    0.794256              3.36684       \n",
      "\u001b[J38          0.95           0.8125                    0.730203    0.78081               3.4288        \n",
      "\u001b[J39          0.918182       0.8125                    0.747149    0.772059              3.5126        \n",
      "\u001b[J40          0.91           0.8375                    0.738246    0.764413              3.67905       \n",
      "\u001b[J41          0.863636       0.825                     0.731261    0.757966              3.77801       \n",
      "\u001b[J42          0.936364       0.825                     0.68809     0.744769              3.84775       \n",
      "\u001b[J43          0.93           0.8375                    0.702108    0.738221              3.90212       \n",
      "\u001b[J44          0.936364       0.8375                    0.67867     0.727599              3.96376       \n",
      "\u001b[J45          0.87           0.825                     0.698302    0.718892              4.11779       \n",
      "\u001b[J46          0.918182       0.85                      0.696132    0.711502              4.23794       \n",
      "\u001b[J47          0.927273       0.85                      0.650514    0.703335              4.37747       \n",
      "\u001b[J48          0.95           0.85                      0.623625    0.692775              4.48141       \n",
      "\u001b[J49          0.927273       0.85                      0.637503    0.68603               4.54434       \n",
      "\u001b[J50          0.94           0.8625                    0.629957    0.672643              4.68481       \n",
      "\u001b[J51          0.909091       0.8625                    0.62846     0.658071              4.93182       \n",
      "\u001b[J52          0.918182       0.85                      0.619996    0.654954              5.02501       \n",
      "\u001b[J53          0.89           0.8625                    0.604851    0.646597              5.08431       \n",
      "\u001b[J54          0.909091       0.8625                    0.603194    0.634551              5.13768       \n",
      "\u001b[J55          0.96           0.8625                    0.576416    0.631447              5.21609       \n",
      "\u001b[J56          0.9            0.8625                    0.595589    0.627358              5.3269        \n",
      "\u001b[J57          0.881818       0.9375                    0.622487    0.607015              5.46315       \n",
      "\u001b[J58          0.91           0.8625                    0.570313    0.610254              5.67402       \n",
      "\u001b[J59          0.918182       0.8625                    0.581335    0.601049              5.82124       \n",
      "\u001b[J60          0.92           0.9375                    0.530781    0.592024              5.93542       \n",
      "\u001b[J61          0.936364       0.9375                    0.541357    0.579009              6.16529       \n",
      "\u001b[J62          0.872727       0.85                      0.56374     0.591295              6.32152       \n",
      "\u001b[J63          0.94           0.95                      0.513789    0.563434              6.42283       \n",
      "\u001b[J64          0.936364       0.95                      0.537155    0.559552              6.66594       \n",
      "\u001b[J65          0.97           0.95                      0.491359    0.55274               6.81986       \n",
      "\u001b[J66          0.954545       0.8625                    0.505895    0.556152              7.00391       \n",
      "\u001b[J67          0.963636       0.95                      0.485998    0.539613              7.18742       \n",
      "\u001b[J68          0.97           0.9625                    0.475499    0.526166              7.31897       \n",
      "\u001b[J69          0.963636       0.9625                    0.466683    0.520461              7.39992       \n",
      "\u001b[J70          0.96           0.9625                    0.45782     0.514123              7.53909       \n",
      "\u001b[J71          0.909091       0.9625                    0.517319    0.504965              7.64538       \n",
      "\u001b[J72          0.936364       0.9625                    0.484212    0.499934              7.76767       \n",
      "\u001b[J73          0.94           0.9625                    0.47837     0.504309              7.8629        \n",
      "\u001b[J74          0.972727       0.9625                    0.424183    0.495043              7.94775       \n",
      "\u001b[J75          0.96           0.9625                    0.450838    0.488146              8.16683       \n",
      "\u001b[J76          0.954545       0.9625                    0.456586    0.487267              8.33972       \n",
      "\u001b[J77          0.927273       0.9625                    0.436543    0.481456              8.4797        \n",
      "\u001b[J78          0.97           0.9625                    0.411127    0.462992              8.60511       \n"
     ]
    },
    {
     "name": "stdout",
     "output_type": "stream",
     "text": [
      "\u001b[J79          0.918182       0.9625                    0.453695    0.457042              8.7476        \n",
      "\u001b[J80          0.9            0.9625                    0.445865    0.460683              8.85431       \n",
      "\u001b[J81          0.972727       0.9625                    0.409734    0.449586              9.04104       \n",
      "\u001b[J82          0.963636       0.9625                    0.392539    0.436115              9.17714       \n",
      "\u001b[J83          0.95           0.9625                    0.431525    0.437706              9.26806       \n",
      "\u001b[J84          0.954545       0.9625                    0.395572    0.428863              9.35488       \n",
      "\u001b[J85          0.94           0.9625                    0.394103    0.429891              9.47997       \n",
      "\u001b[J86          0.9            0.9625                    0.430394    0.421453              9.62705       \n",
      "\u001b[J87          0.972727       0.9625                    0.362604    0.424521              9.70179       \n",
      "\u001b[J88          0.93           0.9625                    0.412386    0.419312              9.81846       \n",
      "\u001b[J89          0.963636       0.975                     0.370614    0.401864              9.95252       \n",
      "\u001b[J90          0.93           0.9625                    0.439049    0.400334              10.0949       \n",
      "\u001b[J91          0.918182       0.9625                    0.369909    0.396007              10.1515       \n",
      "\u001b[J92          0.909091       0.9625                    0.392155    0.403292              10.2302       \n",
      "\u001b[J93          0.89           0.9625                    0.419714    0.384474              10.3173       \n",
      "\u001b[J94          0.954545       0.9625                    0.346441    0.387213              10.3994       \n",
      "\u001b[J95          0.92           0.9625                    0.399474    0.385509              10.5432       \n",
      "\u001b[J96          0.945455       0.9625                    0.332868    0.375348              10.6716       \n",
      "\u001b[J97          0.945455       0.9625                    0.343207    0.384713              10.7698       \n",
      "\u001b[J98          0.98           0.975                     0.313523    0.36608               10.8513       \n",
      "\u001b[J99          0.972727       0.9625                    0.316565    0.36168               10.9361       \n",
      "\u001b[J100         0.97           0.975                     0.326705    0.361633              10.9928       \n"
     ]
    }
   ],
   "source": [
    "trainer.run()"
   ]
  },
  {
   "cell_type": "markdown",
   "metadata": {},
   "source": [
    "## 結果の確認"
   ]
  },
  {
   "cell_type": "code",
   "execution_count": 297,
   "metadata": {},
   "outputs": [],
   "source": [
    "import json"
   ]
  },
  {
   "cell_type": "code",
   "execution_count": 298,
   "metadata": {},
   "outputs": [],
   "source": [
    "with open('result/wine/log') as f:\n",
    "    logs = json.load(f)"
   ]
  },
  {
   "cell_type": "code",
   "execution_count": 299,
   "metadata": {},
   "outputs": [],
   "source": [
    "#logs[0]['elapsed_time']"
   ]
  },
  {
   "cell_type": "code",
   "execution_count": 300,
   "metadata": {},
   "outputs": [],
   "source": [
    "results = pd.DataFrame(logs)"
   ]
  },
  {
   "cell_type": "code",
   "execution_count": 301,
   "metadata": {},
   "outputs": [],
   "source": [
    "%matplotlib inline\n",
    "# results.head()"
   ]
  },
  {
   "cell_type": "code",
   "execution_count": 302,
   "metadata": {},
   "outputs": [
    {
     "data": {
      "text/plain": [
       "<matplotlib.axes._subplots.AxesSubplot at 0x138025160>"
      ]
     },
     "execution_count": 302,
     "metadata": {},
     "output_type": "execute_result"
    },
    {
     "data": {
      "image/png": "[encoded data removed]",
      "text/plain": [
       "<Figure size 432x288 with 1 Axes>"
      ]
     },
     "metadata": {},
     "output_type": "display_data"
    }
   ],
   "source": [
    "results[['main/accuracy', 'validation/main/accuracy']].plot()"
   ]
  },
  {
   "cell_type": "code",
   "execution_count": 303,
   "metadata": {},
   "outputs": [
    {
     "data": {
      "text/plain": [
       "<matplotlib.axes._subplots.AxesSubplot at 0x13807de80>"
      ]
     },
     "execution_count": 303,
     "metadata": {},
     "output_type": "execute_result"
    },
    {
     "data": {
      "image/png": "[encoded data removed]",
      "text/plain": [
       "<Figure size 432x288 with 1 Axes>"
      ]
     },
     "metadata": {},
     "output_type": "display_data"
    }
   ],
   "source": [
    "results[['main/loss', 'validation/main/loss']].plot()"
   ]
  },
  {
   "cell_type": "markdown",
   "metadata": {},
   "source": [
    "## 学習済みモデルを保存"
   ]
  },
  {
   "cell_type": "code",
   "execution_count": 306,
   "metadata": {},
   "outputs": [],
   "source": [
    "chainer.serializers.save_npz('models/wine.npz', model)"
   ]
  },
  {
   "cell_type": "markdown",
   "metadata": {},
   "source": [
    "## 学習済みモデルを使用した推論 (予測値の計算)"
   ]
  },
  {
   "cell_type": "markdown",
   "metadata": {},
   "source": [
    "### 学習済みモデルのロード"
   ]
  },
  {
   "cell_type": "code",
   "execution_count": 308,
   "metadata": {},
   "outputs": [],
   "source": [
    "# モデルの構造を明治\n",
    "model = L.Classifier(NN())"
   ]
  },
  {
   "cell_type": "code",
   "execution_count": 310,
   "metadata": {},
   "outputs": [],
   "source": [
    "chainer.serializers.load_npz('models/wine.npz', model)"
   ]
  },
  {
   "cell_type": "markdown",
   "metadata": {},
   "source": [
    "### 予測値の計算"
   ]
  },
  {
   "cell_type": "markdown",
   "metadata": {},
   "source": [
    "今回は一番最初のサンプルに対する予測値の計算を行う"
   ]
  },
  {
   "cell_type": "code",
   "execution_count": 314,
   "metadata": {},
   "outputs": [
    {
     "data": {
      "text/plain": [
       "array([1.423e+01, 2.430e+00, 1.560e+01, 1.270e+02, 2.800e+00, 3.060e+00,\n",
       "       2.800e-01, 5.640e+00, 1.040e+00, 1.065e+03], dtype=float32)"
      ]
     },
     "execution_count": 314,
     "metadata": {},
     "output_type": "execute_result"
    }
   ],
   "source": [
    "x_new = x[0]\n",
    "x_new"
   ]
  },
  {
   "cell_type": "code",
   "execution_count": 315,
   "metadata": {},
   "outputs": [
    {
     "data": {
      "text/plain": [
       "(10,)"
      ]
     },
     "execution_count": 315,
     "metadata": {},
     "output_type": "execute_result"
    }
   ],
   "source": [
    "x_new.shape"
   ]
  },
  {
   "cell_type": "code",
   "execution_count": 317,
   "metadata": {},
   "outputs": [],
   "source": [
    "# 予測値の計算\n",
    "# y = model.predictor(x_new)"
   ]
  },
  {
   "cell_type": "markdown",
   "metadata": {},
   "source": [
    "`(バッチサイズ, 入力変数の数)`という形式でないといけない"
   ]
  },
  {
   "cell_type": "code",
   "execution_count": 323,
   "metadata": {},
   "outputs": [
    {
     "data": {
      "text/plain": [
       "array([[1.423e+01, 2.430e+00, 1.560e+01, 1.270e+02, 2.800e+00, 3.060e+00,\n",
       "        2.800e-01, 5.640e+00, 1.040e+00, 1.065e+03]], dtype=float32)"
      ]
     },
     "execution_count": 323,
     "metadata": {},
     "output_type": "execute_result"
    }
   ],
   "source": [
    "x_new = x[0][np.newaxis]\n",
    "x_new"
   ]
  },
  {
   "cell_type": "code",
   "execution_count": 324,
   "metadata": {},
   "outputs": [
    {
     "data": {
      "text/plain": [
       "(1, 10)"
      ]
     },
     "execution_count": 324,
     "metadata": {},
     "output_type": "execute_result"
    }
   ],
   "source": [
    "x_new.shape"
   ]
  },
  {
   "cell_type": "code",
   "execution_count": 329,
   "metadata": {},
   "outputs": [],
   "source": [
    "#y = model.predictor(x_new)\n",
    "#y"
   ]
  },
  {
   "cell_type": "code",
   "execution_count": 327,
   "metadata": {},
   "outputs": [
    {
     "data": {
      "text/plain": [
       "variable([[0.33730265, 0.45562303, 0.20707427]])"
      ]
     },
     "execution_count": 327,
     "metadata": {},
     "output_type": "execute_result"
    }
   ],
   "source": [
    "y = F.softmax(y)\n",
    "y"
   ]
  },
  {
   "cell_type": "code",
   "execution_count": 328,
   "metadata": {},
   "outputs": [
    {
     "data": {
      "text/plain": [
       "array([[0.33730265, 0.45562303, 0.20707427]], dtype=float32)"
      ]
     },
     "execution_count": 328,
     "metadata": {},
     "output_type": "execute_result"
    }
   ],
   "source": [
    "y.array"
   ]
  },
  {
   "cell_type": "code",
   "execution_count": 330,
   "metadata": {},
   "outputs": [
    {
     "data": {
      "text/plain": [
       "1"
      ]
     },
     "execution_count": 330,
     "metadata": {},
     "output_type": "execute_result"
    }
   ],
   "source": [
    "np.argmax(y.array)"
   ]
  },
  {
   "cell_type": "code",
   "execution_count": null,
   "metadata": {},
   "outputs": [],
   "source": []
  }
 ],
 "metadata": {
  "kernelspec": {
   "display_name": "Python 3",
   "language": "python",
   "name": "python3"
  },
  "language_info": {
   "codemirror_mode": {
    "name": "ipython",
    "version": 3
   },
   "file_extension": ".py",
   "mimetype": "text/x-python",
   "name": "python",
   "nbconvert_exporter": "python",
   "pygments_lexer": "ipython3",
   "version": "3.7.0"
  }
 },
 "nbformat": 4,
 "nbformat_minor": 2
}
